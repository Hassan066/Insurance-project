{
 "cells": [
  {
   "cell_type": "code",
   "execution_count": 2,
   "id": "5f1be1fb",
   "metadata": {},
   "outputs": [],
   "source": [
    "import pandas as pd\n",
    "import numpy as np\n",
    "import matplotlib.pyplot as plt"
   ]
  },
  {
   "cell_type": "code",
   "execution_count": 3,
   "id": "a8091410",
   "metadata": {},
   "outputs": [],
   "source": [
    "insurance=pd.read_csv('insurance.csv')"
   ]
  },
  {
   "cell_type": "code",
   "execution_count": 4,
   "id": "ec200e97",
   "metadata": {},
   "outputs": [
    {
     "data": {
      "text/html": [
       "<div>\n",
       "<style scoped>\n",
       "    .dataframe tbody tr th:only-of-type {\n",
       "        vertical-align: middle;\n",
       "    }\n",
       "\n",
       "    .dataframe tbody tr th {\n",
       "        vertical-align: top;\n",
       "    }\n",
       "\n",
       "    .dataframe thead th {\n",
       "        text-align: right;\n",
       "    }\n",
       "</style>\n",
       "<table border=\"1\" class=\"dataframe\">\n",
       "  <thead>\n",
       "    <tr style=\"text-align: right;\">\n",
       "      <th></th>\n",
       "      <th>age</th>\n",
       "      <th>sex</th>\n",
       "      <th>bmi</th>\n",
       "      <th>children</th>\n",
       "      <th>smoker</th>\n",
       "      <th>region</th>\n",
       "      <th>charges</th>\n",
       "    </tr>\n",
       "  </thead>\n",
       "  <tbody>\n",
       "    <tr>\n",
       "      <th>0</th>\n",
       "      <td>19</td>\n",
       "      <td>female</td>\n",
       "      <td>27.900</td>\n",
       "      <td>0</td>\n",
       "      <td>yes</td>\n",
       "      <td>southwest</td>\n",
       "      <td>16884.92400</td>\n",
       "    </tr>\n",
       "    <tr>\n",
       "      <th>1</th>\n",
       "      <td>18</td>\n",
       "      <td>male</td>\n",
       "      <td>33.770</td>\n",
       "      <td>1</td>\n",
       "      <td>no</td>\n",
       "      <td>southeast</td>\n",
       "      <td>1725.55230</td>\n",
       "    </tr>\n",
       "    <tr>\n",
       "      <th>2</th>\n",
       "      <td>28</td>\n",
       "      <td>male</td>\n",
       "      <td>33.000</td>\n",
       "      <td>3</td>\n",
       "      <td>no</td>\n",
       "      <td>southeast</td>\n",
       "      <td>4449.46200</td>\n",
       "    </tr>\n",
       "    <tr>\n",
       "      <th>3</th>\n",
       "      <td>33</td>\n",
       "      <td>male</td>\n",
       "      <td>22.705</td>\n",
       "      <td>0</td>\n",
       "      <td>no</td>\n",
       "      <td>northwest</td>\n",
       "      <td>21984.47061</td>\n",
       "    </tr>\n",
       "    <tr>\n",
       "      <th>4</th>\n",
       "      <td>32</td>\n",
       "      <td>male</td>\n",
       "      <td>28.880</td>\n",
       "      <td>0</td>\n",
       "      <td>no</td>\n",
       "      <td>northwest</td>\n",
       "      <td>3866.85520</td>\n",
       "    </tr>\n",
       "  </tbody>\n",
       "</table>\n",
       "</div>"
      ],
      "text/plain": [
       "   age     sex     bmi  children smoker     region      charges\n",
       "0   19  female  27.900         0    yes  southwest  16884.92400\n",
       "1   18    male  33.770         1     no  southeast   1725.55230\n",
       "2   28    male  33.000         3     no  southeast   4449.46200\n",
       "3   33    male  22.705         0     no  northwest  21984.47061\n",
       "4   32    male  28.880         0     no  northwest   3866.85520"
      ]
     },
     "execution_count": 4,
     "metadata": {},
     "output_type": "execute_result"
    }
   ],
   "source": [
    "insurance.head()"
   ]
  },
  {
   "cell_type": "code",
   "execution_count": 5,
   "id": "643104ed",
   "metadata": {},
   "outputs": [
    {
     "name": "stdout",
     "output_type": "stream",
     "text": [
      "<class 'pandas.core.frame.DataFrame'>\n",
      "RangeIndex: 1338 entries, 0 to 1337\n",
      "Data columns (total 7 columns):\n",
      " #   Column    Non-Null Count  Dtype  \n",
      "---  ------    --------------  -----  \n",
      " 0   age       1338 non-null   int64  \n",
      " 1   sex       1338 non-null   object \n",
      " 2   bmi       1338 non-null   float64\n",
      " 3   children  1338 non-null   int64  \n",
      " 4   smoker    1338 non-null   object \n",
      " 5   region    1338 non-null   object \n",
      " 6   charges   1338 non-null   float64\n",
      "dtypes: float64(2), int64(2), object(3)\n",
      "memory usage: 73.3+ KB\n"
     ]
    }
   ],
   "source": [
    "insurance.info()"
   ]
  },
  {
   "cell_type": "code",
   "execution_count": 26,
   "id": "74166534",
   "metadata": {},
   "outputs": [],
   "source": [
    "# converting the categorical data into numeric\n",
    "insurance['sex']=insurance['sex'].map({'female':1,'male':0})\n",
    "insurance['smoker']=insurance['smoker'].map({'yes':1,'no':0})"
   ]
  },
  {
   "cell_type": "code",
   "execution_count": 27,
   "id": "8713a136",
   "metadata": {},
   "outputs": [
    {
     "data": {
      "text/html": [
       "<div>\n",
       "<style scoped>\n",
       "    .dataframe tbody tr th:only-of-type {\n",
       "        vertical-align: middle;\n",
       "    }\n",
       "\n",
       "    .dataframe tbody tr th {\n",
       "        vertical-align: top;\n",
       "    }\n",
       "\n",
       "    .dataframe thead th {\n",
       "        text-align: right;\n",
       "    }\n",
       "</style>\n",
       "<table border=\"1\" class=\"dataframe\">\n",
       "  <thead>\n",
       "    <tr style=\"text-align: right;\">\n",
       "      <th></th>\n",
       "      <th>age</th>\n",
       "      <th>sex</th>\n",
       "      <th>bmi</th>\n",
       "      <th>children</th>\n",
       "      <th>smoker</th>\n",
       "      <th>region</th>\n",
       "      <th>charges</th>\n",
       "    </tr>\n",
       "  </thead>\n",
       "  <tbody>\n",
       "    <tr>\n",
       "      <th>0</th>\n",
       "      <td>19</td>\n",
       "      <td>1</td>\n",
       "      <td>27.900</td>\n",
       "      <td>0</td>\n",
       "      <td>1</td>\n",
       "      <td>3</td>\n",
       "      <td>16884.92400</td>\n",
       "    </tr>\n",
       "    <tr>\n",
       "      <th>1</th>\n",
       "      <td>18</td>\n",
       "      <td>0</td>\n",
       "      <td>33.770</td>\n",
       "      <td>1</td>\n",
       "      <td>0</td>\n",
       "      <td>2</td>\n",
       "      <td>1725.55230</td>\n",
       "    </tr>\n",
       "    <tr>\n",
       "      <th>2</th>\n",
       "      <td>28</td>\n",
       "      <td>0</td>\n",
       "      <td>33.000</td>\n",
       "      <td>3</td>\n",
       "      <td>0</td>\n",
       "      <td>2</td>\n",
       "      <td>4449.46200</td>\n",
       "    </tr>\n",
       "    <tr>\n",
       "      <th>3</th>\n",
       "      <td>33</td>\n",
       "      <td>0</td>\n",
       "      <td>22.705</td>\n",
       "      <td>0</td>\n",
       "      <td>0</td>\n",
       "      <td>1</td>\n",
       "      <td>21984.47061</td>\n",
       "    </tr>\n",
       "    <tr>\n",
       "      <th>4</th>\n",
       "      <td>32</td>\n",
       "      <td>0</td>\n",
       "      <td>28.880</td>\n",
       "      <td>0</td>\n",
       "      <td>0</td>\n",
       "      <td>1</td>\n",
       "      <td>3866.85520</td>\n",
       "    </tr>\n",
       "  </tbody>\n",
       "</table>\n",
       "</div>"
      ],
      "text/plain": [
       "   age  sex     bmi  children  smoker  region      charges\n",
       "0   19    1  27.900         0       1       3  16884.92400\n",
       "1   18    0  33.770         1       0       2   1725.55230\n",
       "2   28    0  33.000         3       0       2   4449.46200\n",
       "3   33    0  22.705         0       0       1  21984.47061\n",
       "4   32    0  28.880         0       0       1   3866.85520"
      ]
     },
     "execution_count": 27,
     "metadata": {},
     "output_type": "execute_result"
    }
   ],
   "source": [
    "insurance.head()"
   ]
  },
  {
   "cell_type": "code",
   "execution_count": 39,
   "id": "3ee7f8d1",
   "metadata": {},
   "outputs": [],
   "source": [
    "from sklearn import preprocessing"
   ]
  },
  {
   "cell_type": "code",
   "execution_count": 40,
   "id": "d11cacf8",
   "metadata": {},
   "outputs": [],
   "source": [
    "le=preprocessing.LabelEncoder()\n",
    "insurance['region']=le.fit_transform(insurance['region'])"
   ]
  },
  {
   "cell_type": "code",
   "execution_count": 41,
   "id": "3a108273",
   "metadata": {},
   "outputs": [],
   "source": [
    "# spliting the data in x and y\n",
    "x=insurance[['age','sex','bmi','children','smoker','region']]\n",
    "y=insurance['charges']"
   ]
  },
  {
   "cell_type": "code",
   "execution_count": 42,
   "id": "8ad36b33",
   "metadata": {},
   "outputs": [],
   "source": [
    "#random_state is the seed used by the random number generator, it can be any integer.\n",
    "from sklearn.model_selection import train_test_split\n",
    "X_train, X_test, y_train, y_test = train_test_split(x, y, train_size=0.7 ,test_size = 0.3, random_state=0)"
   ]
  },
  {
   "cell_type": "code",
   "execution_count": 43,
   "id": "5fa10eca",
   "metadata": {},
   "outputs": [],
   "source": [
    "#importing the linear regression model\n",
    "from sklearn.linear_model import LinearRegression\n",
    "from sklearn.model_selection import cross_val_score"
   ]
  },
  {
   "cell_type": "code",
   "execution_count": 44,
   "id": "0adcdded",
   "metadata": {},
   "outputs": [
    {
     "data": {
      "text/plain": [
       "LinearRegression()"
      ]
     },
     "execution_count": 44,
     "metadata": {},
     "output_type": "execute_result"
    }
   ],
   "source": [
    "reg=LinearRegression()\n",
    "reg.fit(X_train,y_train)"
   ]
  },
  {
   "cell_type": "code",
   "execution_count": 45,
   "id": "7c59057c",
   "metadata": {},
   "outputs": [
    {
     "data": {
      "text/plain": [
       "array([-34631222.16771477, -23076482.03058835, -48384123.40063252,\n",
       "       -26770656.7465612 , -38833359.64091754, -43028484.53258415,\n",
       "       -38894395.03714094, -36059478.82733749, -48935999.54553034,\n",
       "       -48222588.03124923])"
      ]
     },
     "execution_count": 45,
     "metadata": {},
     "output_type": "execute_result"
    }
   ],
   "source": [
    "cross_val_score(reg,X_train,y_train,scoring='neg_mean_squared_error',cv=10)"
   ]
  },
  {
   "cell_type": "code",
   "execution_count": 46,
   "id": "fcbd0adf",
   "metadata": {},
   "outputs": [],
   "source": [
    "mse=cross_val_score(reg,X_train,y_train,scoring='neg_mean_squared_error',cv=10)"
   ]
  },
  {
   "cell_type": "code",
   "execution_count": 47,
   "id": "14b98d13",
   "metadata": {},
   "outputs": [
    {
     "data": {
      "text/plain": [
       "-38683678.99602565"
      ]
     },
     "execution_count": 47,
     "metadata": {},
     "output_type": "execute_result"
    }
   ],
   "source": [
    "np.mean(mse)"
   ]
  },
  {
   "cell_type": "code",
   "execution_count": 48,
   "id": "6763fa20",
   "metadata": {},
   "outputs": [
    {
     "name": "stdout",
     "output_type": "stream",
     "text": [
      "                            OLS Regression Results                            \n",
      "==============================================================================\n",
      "Dep. Variable:                charges   R-squared:                       0.731\n",
      "Model:                            OLS   Adj. R-squared:                  0.729\n",
      "Method:                 Least Squares   F-statistic:                     420.1\n",
      "Date:                Fri, 30 Sep 2022   Prob (F-statistic):          1.32e-260\n",
      "Time:                        18:50:39   Log-Likelihood:                -9495.8\n",
      "No. Observations:                 936   AIC:                         1.901e+04\n",
      "Df Residuals:                     929   BIC:                         1.904e+04\n",
      "Df Model:                           6                                         \n",
      "Covariance Type:            nonrobust                                         \n",
      "==============================================================================\n",
      "                 coef    std err          t      P>|t|      [0.025      0.975]\n",
      "------------------------------------------------------------------------------\n",
      "const      -1.188e+04   1168.914    -10.161      0.000   -1.42e+04   -9583.107\n",
      "age          256.5773     14.610     17.561      0.000     227.904     285.250\n",
      "sex           49.3923    405.572      0.122      0.903    -746.551     845.336\n",
      "bmi          329.0238     33.124      9.933      0.000     264.017     394.031\n",
      "children     479.0850    168.456      2.844      0.005     148.488     809.682\n",
      "smoker       2.34e+04    504.923     46.344      0.000    2.24e+04    2.44e+04\n",
      "region      -276.3158    186.173     -1.484      0.138    -641.684      89.053\n",
      "==============================================================================\n",
      "Omnibus:                      231.712   Durbin-Watson:                   2.049\n",
      "Prob(Omnibus):                  0.000   Jarque-Bera (JB):              565.807\n",
      "Skew:                           1.305   Prob(JB):                    1.37e-123\n",
      "Kurtosis:                       5.774   Cond. No.                         300.\n",
      "==============================================================================\n",
      "\n",
      "Notes:\n",
      "[1] Standard Errors assume that the covariance matrix of the errors is correctly specified.\n"
     ]
    }
   ],
   "source": [
    "#OLS model\n",
    "import statsmodels.api as sm         \n",
    "X_train = sm.add_constant(X_train)   \n",
    "lm = sm.OLS(y_train,X_train).fit()\n",
    "print(lm.summary())"
   ]
  },
  {
   "cell_type": "code",
   "execution_count": 49,
   "id": "aabb0e5d",
   "metadata": {},
   "outputs": [],
   "source": [
    "# Importing matplotlib and seaborn\n",
    "import matplotlib.pyplot as plt\n",
    "import seaborn as sns\n",
    "%matplotlib inline"
   ]
  },
  {
   "cell_type": "code",
   "execution_count": 50,
   "id": "94d6a1ac",
   "metadata": {},
   "outputs": [
    {
     "data": {
      "text/plain": [
       "<AxesSubplot:>"
      ]
     },
     "execution_count": 50,
     "metadata": {},
     "output_type": "execute_result"
    },
    {
     "data": {
      "image/png": "[encoded data removed]",
      "text/plain": [
       "<Figure size 504x720 with 2 Axes>"
      ]
     },
     "metadata": {
      "needs_background": "light"
     },
     "output_type": "display_data"
    }
   ],
   "source": [
    "# Let's see the correlation matrix \n",
    "plt.figure(figsize = (7,10))     # Size of the figure\n",
    "sns.heatmap(insurance.corr(),annot = True)"
   ]
  },
  {
   "cell_type": "code",
   "execution_count": 51,
   "id": "6a70f291",
   "metadata": {},
   "outputs": [],
   "source": [
    "#prediction\n",
    "reg_pred=reg.predict(X_test)"
   ]
  },
  {
   "cell_type": "code",
   "execution_count": 52,
   "id": "5f17dccc",
   "metadata": {},
   "outputs": [
    {
     "data": {
      "text/plain": [
       "array([11051.54909755,  9821.28110689, 37867.57220923, 16125.70579228,\n",
       "        6920.27132517,  3879.38549816,  1448.91928088, 14390.17797974,\n",
       "        9022.95151353,  7458.83371884,  4584.60125463, 10309.9886336 ,\n",
       "        8693.03891958,  4085.25393494, 27551.60737718, 11151.0640722 ,\n",
       "       11243.0536825 ,  5962.9521121 ,  8181.9015666 , 26750.7993431 ,\n",
       "       33448.59842228, 14350.03320383, 11672.89478465, 32235.7832204 ,\n",
       "        4326.07702625,  9096.53607025,  1045.25196369, 10177.76672094,\n",
       "        4042.60346751, 10384.28681219,  9035.98983755, 40123.71002379,\n",
       "       15507.20819083, 13678.264976  , 24481.97362849,  5059.21988589,\n",
       "       12889.80609711, 30333.92625689, 33301.25091403,  3431.35787088,\n",
       "        3941.81614597,  4203.90901434, 30219.19050725, 39245.56885373,\n",
       "       27762.83744249,  4994.74188765, 11042.48621304,  7760.15047885,\n",
       "        3569.09734756, 10613.61535955,  5544.95921408,  3397.80923785,\n",
       "       32701.67144343, 38285.57836702, 16290.50463759,  6965.99677468,\n",
       "        5895.27536963,  9364.94083823,  9395.1780384 , 11722.13868077,\n",
       "        1611.87873326, 38750.4981005 , 15296.11225478, 11708.42958487,\n",
       "       14076.39653066, 13904.28564489, 25798.46519738, 31953.12169371,\n",
       "        1168.25915489, 10184.5995492 , 12273.00414884, 11867.15734569,\n",
       "       24808.10644113, 15908.53043993, 11198.67421883, 12631.50869281,\n",
       "        6433.71238434,  9915.55343233, 29953.19794316, 38768.07351788,\n",
       "       12011.54405754, 37253.64166612,  4056.21325429,  9255.50826428,\n",
       "       34537.73817683, 28976.62623495,  8444.02316285,  4738.69241453,\n",
       "       11959.22562859, 30006.0695852 , 10041.58386562, 11243.48874027,\n",
       "        8183.6075869 ,  9280.51490529,  8255.40224617,  7239.23538241,\n",
       "       35731.00350944, 32878.29978853,  7591.7717691 , 14921.91368481,\n",
       "        4184.53547122,  8690.01064385,  6619.75457992, 31535.59819898,\n",
       "       32775.00677547,  1887.67848916,  8933.68024017,  6520.27249906,\n",
       "       14475.77105663, 36880.82790297, 10252.51955517, 10775.16399139,\n",
       "       10192.95246113, 26581.47470665, 39936.28907748,  8453.03671416,\n",
       "         143.08142864,  8874.82383918, 15117.85425873,  9557.08594807,\n",
       "       35275.59070316,  7270.62037452, 16826.50981439,  9572.8088055 ,\n",
       "        8159.95902395,  2952.65859719, 32706.51413703, 31283.9896012 ,\n",
       "       39216.89699401,  5362.49911669,  9675.40479836,  3778.85297694,\n",
       "        7946.39718647,  8585.02883773, 31341.17050506, 29551.7714624 ,\n",
       "       29853.91861524,  9151.88904567, 32625.66390263,  3229.01239018,\n",
       "        3529.93652932, 11054.17156002, 13442.38216447, 12761.80223436,\n",
       "        5363.70249634, 15875.56674406, 15252.72853146,  2382.17016287,\n",
       "        -120.56014234, 10834.07802124,  7372.12214193, 31759.88622234,\n",
       "       12314.86913452,  2548.30390645,  6284.28252705,  8170.0107525 ,\n",
       "        4285.24015268,  2331.14818812, 11414.21888159, 12551.18010753,\n",
       "        7208.95663304, 16615.95420641, 11792.56220606, 13920.69808423,\n",
       "        3134.30793579,  7262.13973297, 22758.38813544,  7596.99822972,\n",
       "        5401.65993492,  5339.75438707,  6641.09944767,  5142.27041   ,\n",
       "        9983.03913716,  5526.89132472,  5628.18992827,  6975.95618531,\n",
       "        3673.17907317,  5521.32735633, 37913.25218948,  1337.01243212,\n",
       "       12636.06438156,  8935.78276524, 13661.56267036,  5572.770716  ,\n",
       "        5181.38538205, 36214.23931831,  4207.49996636,  1896.75580314,\n",
       "       15163.16594007, 12674.02182014, 34823.20434979,  5093.20670396,\n",
       "        5580.90282376, 31320.99694717,  5982.46375195,  1940.59597738,\n",
       "        8389.18364163, 10016.84576515,  8238.45168712,  5687.97489766,\n",
       "       13133.993244  , 38538.79843345, 13749.62605459, 28607.07797491,\n",
       "        6685.39503417, 35610.2777963 ,  3716.13611211, 12131.97274228,\n",
       "        9356.80352592,  6339.94803517, 11268.82158683, 14519.98276598,\n",
       "        5175.63113265,  4233.99203814,  7768.5658748 ,  1150.93881984,\n",
       "        7861.51707835,  4401.34365822, 13351.6815701 ,  4312.6173173 ,\n",
       "       10007.10646576,  7274.06437597,  9167.81641515,  2307.24223958,\n",
       "       13115.48905979, 16739.15126554, 15287.81532153, 10516.20091624,\n",
       "        5706.41694356,  2453.74757235,  2105.41152789, 13376.27751148,\n",
       "       14339.33209654,  5021.89418573,  4090.605953  ,  9366.33184625,\n",
       "        9969.15202337, 27902.13744062,  7572.78791802, 10543.34735666,\n",
       "        6174.31283586, 29537.11622517, 11027.94086667,  7457.00641596,\n",
       "       10225.18823673, 12176.62074648,  2939.88516441, 10785.5019008 ,\n",
       "        1443.73866643,  6998.45741682, 28534.01786505, 38460.70771961,\n",
       "        6225.11287288,  8374.92523275,  2386.63715545,   305.52277009,\n",
       "       10407.09161902,  4362.55365462,  4960.62107139,  2662.94916464,\n",
       "        7249.10943879, 33132.60876475, 37964.64601751, 14795.4925882 ,\n",
       "        8191.23299164, 16000.85775643, 33002.87197448,  9520.82908522,\n",
       "       33323.6218328 ,  3516.92369698, 30497.30098573,  8044.20793611,\n",
       "       14191.55955407,  4083.10066112, 32268.03153529,  8315.02063095,\n",
       "       11483.73451116,  9510.21374527,  4115.91551624, 12660.02379304,\n",
       "       11717.00935707,  8354.17363399, 13269.77614371,  2699.20978031,\n",
       "       10542.22785417,  5391.53803822, 11313.67089224, 31398.88972707,\n",
       "       10029.81495966,  1118.21159472,   462.52270438, 39674.38015203,\n",
       "        9676.2207617 ,  7081.42950834, 13999.68415448, 13421.82776838,\n",
       "       26976.22819473,  7100.7475948 ,  6788.44279001, 12033.45246932,\n",
       "        2786.36526883,  3902.46962572, 24859.29396183, 26090.84463032,\n",
       "       13371.81813565,  3164.31052787,  5117.58945791,  9325.3139586 ,\n",
       "       12404.934023  , 23317.59720695, 30625.80462982, 10046.65063794,\n",
       "       23804.49406862,  2804.50033014, 11550.33636023,  7549.77464787,\n",
       "        8233.25736365,   312.94242569,  7720.18671702, 35401.11202663,\n",
       "        6152.78016128,  6237.66443531,   178.89028134, 10901.70768044,\n",
       "        6750.59209883,  9992.98880624, 38764.63808826, 27466.58793525,\n",
       "       11489.14198588, 35484.16547957, 15039.21254017,  6810.42408411,\n",
       "       11015.353549  ,  6839.24282704, 36512.17018034,  6045.00741789,\n",
       "       11075.16473053,   741.96608741, 24186.22593789,  1881.15932715,\n",
       "       34245.135946  , 11379.34404185,  1787.47141685, 32018.68078654,\n",
       "        6644.72832713,  5200.52497017, 37952.77965645,  2171.21921984,\n",
       "        9595.04338665,  2650.53107838, 12806.89011534,  1008.0849294 ,\n",
       "       11113.81326429,  7092.09772183, 36343.11043514,  7160.77113975,\n",
       "       30438.75625726, 29472.1875026 ,  7100.76722883, 10790.23315907,\n",
       "        1879.90465675,  2200.37960027,  3793.92758918, 12706.65566117,\n",
       "       37039.77367021,  9716.69560709,   345.17579449, 11387.82123255,\n",
       "        5036.80429065,  9779.98465515,  5576.16518582,  7260.90814745,\n",
       "        4311.38104385, 28280.88564325,  4363.51594298,  -921.56882455,\n",
       "       33139.88333244, 12910.28546987, 35733.85862246,  9841.66334273,\n",
       "        7663.70159627,   -94.4834943 ,  2560.96139226, 11527.50523772,\n",
       "        5669.76181684,  3293.09776754, 12120.72252044,  7743.17735694,\n",
       "        6920.9128887 ,  5459.93977214,  3049.37781558, 31786.79912085,\n",
       "        3518.32063003,  8595.19234733,  4796.86509127, 13024.5060374 ,\n",
       "       14691.59701387,  7163.95913996, 26454.5855911 , 14277.02407734,\n",
       "       17354.84539043, 11476.70520069])"
      ]
     },
     "execution_count": 52,
     "metadata": {},
     "output_type": "execute_result"
    }
   ],
   "source": [
    "reg_pred"
   ]
  },
  {
   "cell_type": "code",
   "execution_count": 55,
   "id": "10209817",
   "metadata": {},
   "outputs": [
    {
     "data": {
      "text/plain": [
       "<seaborn.axisgrid.FacetGrid at 0x271a726c3d0>"
      ]
     },
     "execution_count": 55,
     "metadata": {},
     "output_type": "execute_result"
    },
    {
     "data": {
      "image/png": "[encoded data removed]",
      "text/plain": [
       "<Figure size 360x360 with 1 Axes>"
      ]
     },
     "metadata": {
      "needs_background": "light"
     },
     "output_type": "display_data"
    }
   ],
   "source": [
    "import seaborn as sns\n",
    "sns.displot(reg_pred-y_test,kind='kde')"
   ]
  },
  {
   "cell_type": "code",
   "execution_count": 54,
   "id": "56f6c9d0",
   "metadata": {},
   "outputs": [],
   "source": [
    "from sklearn.metrics import r2_score"
   ]
  },
  {
   "cell_type": "code",
   "execution_count": 36,
   "id": "c4cc375e",
   "metadata": {},
   "outputs": [],
   "source": [
    "score=r2_score(reg_pred,y_test)"
   ]
  },
  {
   "cell_type": "code",
   "execution_count": 37,
   "id": "b04de699",
   "metadata": {},
   "outputs": [
    {
     "data": {
      "text/plain": [
       "0.7108958009880719"
      ]
     },
     "execution_count": 37,
     "metadata": {},
     "output_type": "execute_result"
    }
   ],
   "source": [
    "score"
   ]
  },
  {
   "cell_type": "code",
   "execution_count": null,
   "id": "bf6ececf",
   "metadata": {},
   "outputs": [],
   "source": []
  },
  {
   "cell_type": "code",
   "execution_count": null,
   "id": "34303323",
   "metadata": {},
   "outputs": [],
   "source": []
  }
 ],
 "metadata": {
  "kernelspec": {
   "display_name": "Python 3 (ipykernel)",
   "language": "python",
   "name": "python3"
  },
  "language_info": {
   "codemirror_mode": {
    "name": "ipython",
    "version": 3
   },
   "file_extension": ".py",
   "mimetype": "text/x-python",
   "name": "python",
   "nbconvert_exporter": "python",
   "pygments_lexer": "ipython3",
   "version": "3.9.12"
  }
 },
 "nbformat": 4,
 "nbformat_minor": 5
}
